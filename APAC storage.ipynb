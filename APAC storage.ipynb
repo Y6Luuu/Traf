{
 "cells": [
  {
   "cell_type": "code",
   "execution_count": 32,
   "metadata": {},
   "outputs": [],
   "source": [
    "import pandas as pd\n",
    "from openpyxl import load_workbook\n",
    "pd.reset_option('display.float_format')\n",
    "df_inventory = pd.read_excel(r\"K:\\FINANCE\\Concs\\_ Yuyan\\test_reporter\\BB_report_test_files\\0307\\inventory.xlsx\")\n",
    "df_movement = pd.read_excel(r\"K:\\FINANCE\\Concs\\_ Yuyan\\test_reporter\\BB_report_test_files\\0307\\movement.xlsx\")\n",
    "df_ffca= pd.read_excel(r\"K:\\FINANCE\\Concs\\_ Yuyan\\test_reporter\\BB_report_test_files\\0307\\FFCA.xlsx\")\n",
    "df_qv= pd.read_excel(r\"K:\\FINANCE\\Concs\\_ Yuyan\\test_reporter\\BB_report_test_files\\0307\\QV.xlsx\")"
   ]
  },
  {
   "cell_type": "code",
   "execution_count": 64,
   "metadata": {},
   "outputs": [],
   "source": [
    "cols_ffca = [\"Purchase Assignment ID\" , 'Current Value',  \"Inventory ID\", \"Counterparty of Sales\", \"Financing Bank facility\", \"Inventory Status\", \"QTY\"]\n",
    "cols_qv = [\"Assignment ID\" , \"Country\" ]\n",
    "df_ffca_f1 = pd.DataFrame(df_ffca, columns=cols_ffca)\n",
    "df_qv_f1 = pd.DataFrame(df_qv, columns=cols_qv)\n",
    "\n",
    "cols_inventory_transit = ['INVENTORY ID', 'MOVEMENT ID', 'PURCHASE ASSIGNMENT', 'PRODUCT', 'QUALITY', \\\n",
    "    'FINANCING BANK-TF', 'FINANCING FACILITY TYPE-TF', 'OPERATIONS OWNER', 'DRY WEIGHT', 'WET WEIGHT']\n",
    "\n",
    "cols_inventory_storage = ['INVENTORY ID', 'PURCHASE ASSIGNMENT', 'PRODUCT', 'QUALITY', 'TRANSPORT STATUS', 'LOCATION', 'PURCHASE COUNTERPARTY', 'DRY WEIGHT', 'MOISTURE', 'WET WEIGHT', \\\n",
    "    'FINANCING BANK-TF', 'FINANCING FACILITY TYPE-TF', 'OPERATIONS OWNER']\n",
    "\n",
    "cols_movement_transit = ['ID', 'MOVEMENT PURPOSE', 'LOAD', 'LOAD DATE', 'DESTINATION', 'DESTINATION DATE',  \\\n",
    "    'WET WEIGHT', 'DRY WEIGHT', 'UOM']\n",
    "\n",
    "df_inventory_f1 = pd.DataFrame(df_inventory, columns=cols_inventory_transit)\n",
    "df_inventory_f2 = pd.DataFrame(df_inventory, columns=cols_inventory_storage)\n",
    "df_movement_f1 = pd.DataFrame(df_movement, columns=cols_movement_transit)\n",
    "\n",
    "df_movement_f1.loc[:, 'Load Country'] = df_movement_f1['LOAD'].apply(lambda st: st[st.rfind(\"(\")+1:st.rfind(\")\")])\n",
    "df_movement_f1.loc[:, 'Delivery Country'] = df_movement_f1['DESTINATION'].apply(lambda st: st[st.rfind(\"(\")+1:st.find(\")\")])\n",
    "\n",
    "ffca_qv = pd.merge(df_ffca_f1, df_qv_f1, left_on='Purchase Assignment ID', right_on='Assignment ID', how='outer')\n",
    "\n",
    "\n"
   ]
  },
  {
   "cell_type": "code",
   "execution_count": 65,
   "metadata": {},
   "outputs": [],
   "source": [
    "#delivery\n",
    "def location(a):\n",
    "    return a == \"China\" or a == 'Taiwan' \\\n",
    "        or a == 'Malaysia' or a == 'Spain' \\\n",
    "\n",
    "\n",
    "ffca_qv_storage = ffca_qv.loc[ffca_qv['Country'].apply(location)]\n",
    "\n",
    "summary_storage = pd.merge(df_inventory_f2, ffca_qv_storage, left_on=['INVENTORY ID'], right_on=['Inventory ID'])\n",
    "summary_storage.to_excel(r\"C:\\Users\\Yuyan.Lu\\Desktop\\APAC inventory\\test.xlsx\", sheet_name='summary storage')\n"
   ]
  },
  {
   "cell_type": "code",
   "execution_count": 62,
   "metadata": {},
   "outputs": [],
   "source": [
    "# def destination(a):\n",
    "#     return a == \"Johor-Henry Bath Singapore Pte. Ltd-Warehouse 9 (Malaysia)\" or a == \"Johor - Henry Bath Singapore warehouse 6B1 - Stirling International Logistic Sdn Bhd (Malaysia)\"\n",
    "summary_transit = pd.merge(df_inventory_f1, df_movement_f1, left_on=['MOVEMENT ID'], right_on=['ID'])\n",
    "summary_transit = pd.merge(summary_transit, ffca_qv, left_on='INVENTORY ID', right_on='Inventory ID')\n",
    "# summary_transit = summary_transit.loc[summary_transit['DESTINATION'].apply(destination)]\n"
   ]
  },
  {
   "cell_type": "code",
   "execution_count": 63,
   "metadata": {},
   "outputs": [],
   "source": [
    "\n",
    "writer = pd.ExcelWriter(r\"C:\\Users\\Yuyan.Lu\\Desktop\\APAC inventory\\test.xlsx\", engine='openpyxl')\n",
    "book = load_workbook(writer.path)\n",
    "writer.book = book\n",
    "summary_transit.to_excel(excel_writer=writer, sheet_name='summary intransit')\n",
    "writer.save()\n",
    "writer.close()"
   ]
  }
 ],
 "metadata": {
  "kernelspec": {
   "display_name": "Python 3.6.13 ('Traf_TF')",
   "language": "python",
   "name": "python3"
  },
  "language_info": {
   "codemirror_mode": {
    "name": "ipython",
    "version": 3
   },
   "file_extension": ".py",
   "mimetype": "text/x-python",
   "name": "python",
   "nbconvert_exporter": "python",
   "pygments_lexer": "ipython3",
   "version": "3.6.13 |Anaconda, Inc.| (default, Mar 16 2021, 11:37:27) [MSC v.1916 64 bit (AMD64)]"
  },
  "orig_nbformat": 4,
  "vscode": {
   "interpreter": {
    "hash": "6dc1392907daab3ee7d027bb0f48c61799c4245fae6b03d0e6da3b85bcba139d"
   }
  }
 },
 "nbformat": 4,
 "nbformat_minor": 2
}
