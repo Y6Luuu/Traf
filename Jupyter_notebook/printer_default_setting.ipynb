{
 "cells": [
  {
   "cell_type": "code",
   "execution_count": 5,
   "metadata": {},
   "outputs": [],
   "source": [
    "import tkinter as tk\n",
    "import tkinter.ttk as ttk\n",
    "\n",
    "import win32print\n",
    "\n",
    "\n",
    "def get_available_printers():\n",
    "    return [printer[2] for printer in win32print.EnumPrinters(4)]\n",
    "\n",
    "\n",
    "class PrinterManager(tk.Frame):\n",
    "\n",
    "    def __init__(self, master, *args, **kwargs):\n",
    "        tk.Frame.__init__(self, master, *args, **kwargs)\n",
    "        self.master = master\n",
    "        self.configure_interface()\n",
    "        self.create_widgets()\n",
    "\n",
    "    def configure_interface(self):\n",
    "        self.master.title('Printer Manager')\n",
    "        self.master.geometry('550x400')\n",
    "        self.master.resizable(False, False)\n",
    "        self.master.config(background='#626a77')\n",
    "\n",
    "    def create_widgets(self):\n",
    "        self.default_printer_label = tk.Label(self.master, bg='#626a77', fg='white')\n",
    "        self.default_printer_label.place(x=10, y=12)\n",
    "        self.update_default_printer_label()\n",
    "\n",
    "        refresh_button = tk.Button(self.master, text='Refresh', command=self.update_default_printer_label)\n",
    "        refresh_button.place(x=285, y=10)\n",
    "\n",
    "        selected_printer = tk.StringVar()\n",
    "        printer_choice_menu = ttk.Combobox(self.master, textvariable=selected_printer, values=get_available_printers(), width=35, state='readonly')\n",
    "        printer_choice_menu.place(x=12, y=62)\n",
    "\n",
    "        set_default_printer_button = tk.Button(self.master, text='Set', command=lambda: self.set_default_printer(selected_printer))\n",
    "        set_default_printer_button.place(x=285, y=60, width=50)\n",
    "\n",
    "    def update_default_printer_label(self):\n",
    "        default_printer = win32print.GetDefaultPrinter()\n",
    "        default_printer_text = 'Default printer: {}'.format(default_printer)\n",
    "        self.default_printer_label.config(text=default_printer_text)\n",
    "\n",
    "    def set_default_printer(self, printer_name):\n",
    "        win32print.SetDefaultPrinter(printer_name.get())\n",
    "        self.update_default_printer_label()\n",
    "\n",
    "\n",
    "if __name__ == '__main__':\n",
    "    root = tk.Tk()\n",
    "    PrinterManager(root)\n",
    "    root.mainloop()"
   ]
  }
 ],
 "metadata": {
  "kernelspec": {
   "display_name": "Python 3.6.13 ('Traf_TF')",
   "language": "python",
   "name": "python3"
  },
  "language_info": {
   "codemirror_mode": {
    "name": "ipython",
    "version": 3
   },
   "file_extension": ".py",
   "mimetype": "text/x-python",
   "name": "python",
   "nbconvert_exporter": "python",
   "pygments_lexer": "ipython3",
   "version": "3.6.13"
  },
  "orig_nbformat": 4,
  "vscode": {
   "interpreter": {
    "hash": "6dc1392907daab3ee7d027bb0f48c61799c4245fae6b03d0e6da3b85bcba139d"
   }
  }
 },
 "nbformat": 4,
 "nbformat_minor": 2
}
