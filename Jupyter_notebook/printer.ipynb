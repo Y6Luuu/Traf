{
 "cells": [
  {
   "cell_type": "code",
   "execution_count": 19,
   "metadata": {},
   "outputs": [],
   "source": [
    "import win32ui\n",
    "from PIL import Image, ImageWin\n",
    "from concurrent.futures import ThreadPoolExecutor\n",
    "import win32api\n",
    "import win32print\n",
    "import os\n",
    "import collections\n"
   ]
  },
  {
   "cell_type": "code",
   "execution_count": 20,
   "metadata": {},
   "outputs": [],
   "source": [
    "\n",
    "\n",
    "def printer_file(filename):\n",
    "    win32api.ShellExecute (\n",
    "    0,\n",
    "    \"print\",\n",
    "    filename,\n",
    "    '/d:\"%s\"' % win32print.GetDefaultPrinter (),\n",
    "    \".\",\n",
    "    0\n",
    "    )\n",
    "    print(filename+'----打印成功')\n",
    "\n",
    "\n",
    "\n"
   ]
  },
  {
   "cell_type": "code",
   "execution_count": 27,
   "metadata": {},
   "outputs": [],
   "source": []
  },
  {
   "cell_type": "code",
   "execution_count": 28,
   "metadata": {},
   "outputs": [
    {
     "data": {
      "text/plain": [
       "'K:\\\\FINANCE\\\\Concs\\\\_ Yuyan\\\\Indian presentation\\\\678940.2.1\\\\678940.2.1'"
      ]
     },
     "execution_count": 28,
     "metadata": {},
     "output_type": "execute_result"
    }
   ],
   "source": [
    "path"
   ]
  },
  {
   "cell_type": "code",
   "execution_count": 30,
   "metadata": {},
   "outputs": [
    {
     "name": "stdout",
     "output_type": "stream",
     "text": [
      "while loop\n",
      "sum = 0, i = 1\n",
      "K:\\FINANCE\\Concs\\_ Yuyan\\Indian presentation\\678940.2.1\\678940.2.1\\INVOICE.docx----打印成功\n",
      "出while循环.\n",
      "sum = 1, i = 2\n"
     ]
    }
   ],
   "source": [
    "path = input(\"please add the doc path\")\n",
    "\n",
    "data_invoice = input(\"please enter the invoice amount: \")\n",
    "data_assay = input(\"please enter the assay amount: \")\n",
    "data_weight = input(\"please enter the weight amount: \")\n",
    "data_origin = input(\"please enter the origin amount: \")\n",
    "data_pl = input(\"please enter the pl amount: \")\n",
    "\n",
    "x1=int(data_invoice)\n",
    "x2=int(data_assay)\n",
    "x3=int(data_weight)\n",
    "x4=int(data_origin)\n",
    "x5=int(data_pl)\n",
    "\n",
    "i1 = 1\n",
    "sum1 = 0\n",
    "\n",
    "i2 = 1\n",
    "sum2 = 0\n",
    "\n",
    "i3 = 1\n",
    "sum3 = 0\n",
    "\n",
    "i4 = 1\n",
    "sum4 = 0\n",
    "\n",
    "i5 = 1\n",
    "sum5 = 0\n",
    "\n",
    "copy = input(\"please enter the data: \")\n",
    "x = int(copy)\n",
    "\n",
    "while i1 <= x1:\n",
    "    print('while loop')\n",
    "    print ('sum = %d, i = %d' % (sum1, i1))\n",
    "    printer_file(path + '\\INVOICE.docx')\n",
    "    sum1 = sum1 + i1\n",
    "    i1 = i1 + 1\n",
    "\n",
    "print ('出while循环.')\n",
    "print ('sum = %d, i = %d' % (sum1, i1))\n",
    "\n",
    "while i2 <= x2:\n",
    "    print('while loop')\n",
    "    print ('sum = %d, i = %d' % (sum2, i2))\n",
    "    printer_file(path + '\\ASSAY.docx')\n",
    "    sum2 = sum2 + i2\n",
    "    i2 = i2 + 1\n",
    "\n",
    "print ('出while循环.')\n",
    "print ('sum = %d, i = %d' % (sum2, i2))\n",
    "\n",
    "while i3 <= x3:\n",
    "    print('while loop')\n",
    "    print ('sum = %d, i = %d' % (sum3, i3))\n",
    "    printer_file(path + '\\WEIGHT.docx')\n",
    "    sum3 = sum3 + i3\n",
    "    i3 = i3 + 1\n",
    "\n",
    "print ('出while循环.')\n",
    "print ('sum = %d, i = %d' % (sum3, i3))\n",
    "\n",
    "while i4 <= x4:\n",
    "    print('while loop')\n",
    "    print ('sum = %d, i = %d' % (sum4, i4))\n",
    "    printer_file(path + '\\COO.docx')\n",
    "    sum4 = sum4 + i4\n",
    "    i4 = i4 + 1\n",
    "\n",
    "print ('出while循环.')\n",
    "print ('sum = %d, i = %d' % (sum4, i4))\n",
    "\n",
    "while i5 <= x5:\n",
    "    print('while loop')\n",
    "    print ('sum = %d, i = %d' % (sum, i))\n",
    "    printer_file(path + '\\PL.docx')\n",
    "    sum5 = sum5 + i5\n",
    "    i5 = i5 + 1\n",
    "\n",
    "print ('出while循环.')\n",
    "print ('sum = %d, i = %d' % (sum5, i5))\n",
    "\n",
    "\n",
    "\n"
   ]
  },
  {
   "cell_type": "code",
   "execution_count": 23,
   "metadata": {},
   "outputs": [
    {
     "data": {
      "text/plain": [
       "'1'"
      ]
     },
     "execution_count": 23,
     "metadata": {},
     "output_type": "execute_result"
    }
   ],
   "source": []
  }
 ],
 "metadata": {
  "kernelspec": {
   "display_name": "Python 3.6.13 ('Traf_TF')",
   "language": "python",
   "name": "python3"
  },
  "language_info": {
   "codemirror_mode": {
    "name": "ipython",
    "version": 3
   },
   "file_extension": ".py",
   "mimetype": "text/x-python",
   "name": "python",
   "nbconvert_exporter": "python",
   "pygments_lexer": "ipython3",
   "version": "3.6.13"
  },
  "orig_nbformat": 4,
  "vscode": {
   "interpreter": {
    "hash": "6dc1392907daab3ee7d027bb0f48c61799c4245fae6b03d0e6da3b85bcba139d"
   }
  }
 },
 "nbformat": 4,
 "nbformat_minor": 2
}
