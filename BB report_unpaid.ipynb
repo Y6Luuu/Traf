{
 "cells": [
  {
   "cell_type": "code",
   "execution_count": 2,
   "metadata": {},
   "outputs": [],
   "source": [
    "import pandas as pd\n",
    "pd.reset_option('display.float_format')\n",
    "pd.options.display.float_format = '{:.2f}'.format\n",
    "from openpyxl import load_workbook\n",
    "\n",
    "df_movement = pd.read_excel(r\"C:\\Users\\Yuyan.Lu\\Desktop\\BB REPORT TEST FILE\\0118\\bb_doc\\Movement.xlsx\")\n",
    "df_WC = pd.read_excel(r\"C:\\Users\\Yuyan.Lu\\Desktop\\BB REPORT TEST FILE\\0118\\bb_doc\\fixed_doc\\Warehouse_Risk_Category.xlsx\")\n",
    "df_vessel = pd.read_excel(r\"C:\\Users\\Yuyan.Lu\\Desktop\\BB REPORT TEST FILE\\0118\\bb_doc\\inventory2.xlsx\")\n",
    "df_inventory = pd.read_excel(r\"C:\\Users\\Yuyan.Lu\\Desktop\\BB REPORT TEST FILE\\0118\\bb_doc\\inventory.xlsx\")\n",
    "df_vessel = pd.read_excel(r\"C:\\Users\\Yuyan.Lu\\Desktop\\BB REPORT TEST FILE\\0118\\bb_doc\\inventory2.xlsx\")"
   ]
  },
  {
   "cell_type": "code",
   "execution_count": 143,
   "metadata": {},
   "outputs": [],
   "source": [
    "input= pd.read_excel(r\"C:\\Users\\Yuyan.Lu\\Desktop\\BB REPORT TEST FILE\\0118\\unpaid_ref.xlsx\")\n",
    "\n",
    "cols_input = ['Purchase Assignment Reference', 'Purchase Settlement Valuation(USD)', 'Collateral Document Type']\n",
    "df_input = pd.DataFrame(input, columns=cols_input)\n",
    "\n",
    "\n",
    "def HC(a):\n",
    "    return a == \"HC\"\n",
    "def transport(a):\n",
    "    return a != \"HC\"\n",
    "\n",
    "\n",
    "df_hc = df_input.loc[df_input['Collateral Document Type'].apply(HC)]\n",
    "df_transport = df_input.loc[df_input['Collateral Document Type'].apply(transport)]\n"
   ]
  },
  {
   "cell_type": "code",
   "execution_count": 135,
   "metadata": {},
   "outputs": [
    {
     "data": {
      "text/html": [
       "<div>\n",
       "<style scoped>\n",
       "    .dataframe tbody tr th:only-of-type {\n",
       "        vertical-align: middle;\n",
       "    }\n",
       "\n",
       "    .dataframe tbody tr th {\n",
       "        vertical-align: top;\n",
       "    }\n",
       "\n",
       "    .dataframe thead th {\n",
       "        text-align: right;\n",
       "    }\n",
       "</style>\n",
       "<table border=\"1\" class=\"dataframe\">\n",
       "  <thead>\n",
       "    <tr style=\"text-align: right;\">\n",
       "      <th></th>\n",
       "      <th>Purchase Assignment Reference</th>\n",
       "      <th>Purchase Settlement Valuation(USD)</th>\n",
       "      <th>Collateral Document Type</th>\n",
       "    </tr>\n",
       "  </thead>\n",
       "  <tbody>\n",
       "    <tr>\n",
       "      <th>1</th>\n",
       "      <td>682698.2.2</td>\n",
       "      <td>3958465.79</td>\n",
       "      <td>BL</td>\n",
       "    </tr>\n",
       "  </tbody>\n",
       "</table>\n",
       "</div>"
      ],
      "text/plain": [
       "  Purchase Assignment Reference  Purchase Settlement Valuation(USD)  \\\n",
       "1                    682698.2.2                          3958465.79   \n",
       "\n",
       "  Collateral Document Type  \n",
       "1                       BL  "
      ]
     },
     "execution_count": 135,
     "metadata": {},
     "output_type": "execute_result"
    }
   ],
   "source": [
    "df_transport"
   ]
  },
  {
   "cell_type": "code",
   "execution_count": 138,
   "metadata": {},
   "outputs": [],
   "source": [
    "#storage\n",
    "\n",
    "cols_inventory = ['INVENTORY ID','COLLATERAL DOCUMENT DATE', 'PURCHASE ASSIGNMENT', 'DRY WEIGHT', 'WET WEIGHT', 'CITY']\n",
    "cols_wc = ['LOCATION_DESCRIPTION','Country' ,'RISK_CATEGORY']\n",
    "cols_inventory2 = ['TRANSPORT', 'INVENTORY ID', 'MATERIAL ORIGIN COUNTRIES', 'OPERATIONS OWNER', 'PRODUCT', 'LOCATION', 'PURCHASE COUNTERPARTY']\n",
    "\n",
    "df_inventory_f1 = pd.DataFrame(df_inventory, columns=cols_inventory)\n",
    "df_inventory2_f1 = pd.DataFrame(df_vessel, columns=cols_inventory2)\n",
    "df_WC_f1 = pd.DataFrame(df_WC, columns=cols_wc)\n",
    "df_WC_f1['RISK_CATEGORY'] = df_WC_f1['RISK_CATEGORY'].map(lambda x: str(x)[13:])\n",
    "\n",
    "\n",
    "inventory_combination = pd.merge(df_inventory_f1, df_inventory2_f1, on=['INVENTORY ID'])\n",
    "final_unpaid_WHS = pd.merge(inventory_combination,df_WC_f1, left_on = 'LOCATION', right_on= 'LOCATION_DESCRIPTION', how='outer')\n",
    "\n",
    "\n",
    "\n",
    "result_storage = pd.merge(df_hc, final_unpaid_WHS, left_on = 'Purchase Assignment Reference', right_on= 'PURCHASE ASSIGNMENT')\n",
    "\n",
    "result_storage['Collateral Reference'] = None\n",
    "result_storage['Purchase Group Company Code'] = 'PTE?'\n",
    "result_storage[['Purchase Assignment Reference']] = result_storage[['Purchase Assignment Reference']].astype('str')\n",
    "result_storage['Purchase Trade ID'] = result_storage['Purchase Assignment Reference'].map(lambda x: str(x)[:6])\n",
    "result_storage.loc[:, 'Purchase Quota Titan ID'] = result_storage['Purchase Assignment Reference'].apply(lambda st: st[st.rfind(\".\")-8: st.rfind(\".\")])\n",
    "\n",
    "result_storage.loc[:, 'Eligible Dry Weight'] = result_storage['DRY WEIGHT']\n",
    "result_storage.loc[:, 'Eligible Wet Weight'] = result_storage['WET WEIGHT']\n",
    "result_storage.loc[:, 'Authorized Paid Quantity'] = result_storage['DRY WEIGHT']\n",
    "result_storage.loc[:, 'Financed Quantity'] = result_storage['DRY WEIGHT']\n",
    "result_storage.loc[:, 'Inventory Current Value(USD)'] = result_storage['Purchase Settlement Valuation(USD)']\n",
    "\n",
    "result_storage['Purchase Settlement Valuation(USD)'] = result_storage['Purchase Settlement Valuation(USD)'] * (-1)\n",
    "\n",
    "result_storage['Purchase Dry Weight UOM'] = 'MT'\n",
    "result_storage['Purchase Wet Weight UOM'] = 'MT'\n",
    "result_storage['Delivery In Progress'] = 'N'\n",
    "result_storage['Receipt In Progress'] = 'N'\n",
    "result_storage['Financed Ratio'] = '1'\n",
    "\n",
    "result_storage = result_storage.drop(columns = ['TRANSPORT', 'LOCATION_DESCRIPTION', 'PURCHASE ASSIGNMENT'])\n",
    "\n",
    "result_storage.columns = ['Purchase Assignment Reference', 'Purchase Settlement Valuation(USD)', 'Collateral Document Type',\n",
    "       'Purchase Inventory ID', 'Collateral Document Date', 'Purchase Dry Weight', 'Purchase Wet Weight',\n",
    "       'Warehouse City', 'Purchase Material Origin Country', 'Purchase Traffic Operator', 'Purchase Commodity',\n",
    "       'Warehouse Reference','Purchase Contractual Counterparty', 'Warehouse Country', 'Warehouse Category', 'Collateral Reference',\n",
    "       'Purchase Group Company Code', 'Purchase Trade ID',\n",
    "       'Purchase Quota Titan ID', 'Eligible Dry Weight', 'Eligible Wet Weight',\n",
    "       'Authorized Paid Quantity', 'Financed Quantity',\n",
    "       'Inventory Current Value(USD)', 'Purchase Dry Weight UOM',\n",
    "       'Purchase Wet Weight UOM', 'Delivery In Progress',\n",
    "       'Receipt In Progress', 'Financing Ratio']\n",
    "\n",
    "order = ['Purchase Group Company Code', 'Purchase Trade ID', 'Purchase Quota Titan ID', 'Purchase Assignment Reference', 'Purchase Inventory ID', 'Purchase Traffic Operator', 'Purchase Contractual Counterparty',\n",
    "        'Collateral Document Type', 'Collateral Reference', 'Collateral Document Date', 'Purchase Commodity', 'Purchase Material Origin Country', 'Warehouse Reference', 'Warehouse Category', 'Warehouse Country',\n",
    "        'Warehouse City', 'Purchase Dry Weight', 'Purchase Dry Weight UOM', 'Purchase Wet Weight', 'Purchase Wet Weight UOM', 'Purchase Settlement Valuation(USD)', 'Receipt In Progress', 'Delivery In Progress',\n",
    "        'Eligible Dry Weight', 'Eligible Wet Weight', 'Authorized Paid Quantity', 'Financed Quantity', 'Financing Ratio', 'Inventory Current Value(USD)' ]\n",
    "\n",
    "result_storage = result_storage[order]"
   ]
  },
  {
   "cell_type": "code",
   "execution_count": 170,
   "metadata": {},
   "outputs": [],
   "source": [
    "#transit\n",
    "cols_movement = ['ID', 'LOAD DATE','LOAD', 'DESTINATION', 'DESTINATION DATE']\n",
    "cols_inventory2 = ['TRANSPORT', 'INVENTORY ID', 'MATERIAL ORIGIN COUNTRIES', 'OPERATIONS OWNER', 'PRODUCT', 'PURCHASE COUNTERPARTY', 'MOVEMENT ID', 'MODE', 'RECEIPT INCOTERMS']\n",
    "\n",
    "df_movement_f1 = pd.DataFrame(df_movement, columns=cols_movement)\n",
    "df_movement_f1['LOAD'] = df_movement_f1['LOAD'].astype(str)\n",
    "df_inventory2_f1 = pd.DataFrame(df_vessel, columns=cols_inventory2)\n",
    "\n",
    "#deliver detail\n",
    "df_movement_f1.loc[:, 'Load Country'] = df_movement_f1['LOAD'].apply(lambda st: st[st.rfind(\"(\")+1:st.rfind(\")\")])\n",
    "df_movement_f1.loc[:, 'Delivery Country'] = df_movement_f1['DESTINATION'].apply(lambda st: st[st.rfind(\"(\")+1:st.find(\")\")])\n",
    "\n",
    "inventory_combination = pd.merge(df_inventory_f1, df_inventory2_f1, on=['INVENTORY ID'])\n",
    "final_unpaid_transit = pd.merge(inventory_combination, df_movement_f1, left_on = 'MOVEMENT ID', right_on = 'ID', how='outer')\n",
    "result_transport = pd.merge(df_transport, final_unpaid_transit, left_on = 'Purchase Assignment Reference', right_on= 'PURCHASE ASSIGNMENT')"
   ]
  },
  {
   "cell_type": "code",
   "execution_count": 171,
   "metadata": {},
   "outputs": [],
   "source": [
    "\n",
    "result_transport['Collateral Reference'] = None\n",
    "result_transport['Purchase Group Company Code'] = 'PTE?'\n",
    "result_transport[['Purchase Assignment Reference']] = result_transport[['Purchase Assignment Reference']].astype('str')\n",
    "result_transport['Purchase Trade ID'] = result_transport['Purchase Assignment Reference'].map(lambda x: str(x)[:6])\n",
    "result_transport.loc[:, 'Purchase Quota Titan ID'] = result_transport['Purchase Assignment Reference'].apply(lambda st: st[st.rfind(\".\")-8: st.rfind(\".\")])\n",
    "\n",
    "result_transport.loc[:, 'Eligible Dry Weight'] = result_transport['DRY WEIGHT']\n",
    "result_transport.loc[:, 'Eligible Wet Weight'] = result_transport['WET WEIGHT']\n",
    "result_transport.loc[:, 'BL Date'] = result_transport['COLLATERAL DOCUMENT DATE']\n",
    "result_transport.loc[:, 'Authorized Paid Quantity'] = result_transport['DRY WEIGHT']\n",
    "result_transport.loc[:, 'Financed Quantity'] = result_transport['DRY WEIGHT']\n",
    "result_transport.loc[:, 'Inventory Current Value(USD)'] = result_transport['Purchase Settlement Valuation(USD)']\n",
    "\n",
    "result_transport['Purchase Settlement Valuation(USD)'] = result_transport['Purchase Settlement Valuation(USD)'] * (-1)\n",
    "\n",
    "result_transport['Purchase Dry Weight UOM'] = 'MT'\n",
    "result_transport['Purchase Wet Weight UOM'] = 'MT'\n",
    "result_transport['Delivery In Progress'] = 'N'\n",
    "result_transport['Receipt In Progress'] = 'N'\n",
    "result_transport['Financed Ratio'] = '1'"
   ]
  },
  {
   "cell_type": "code",
   "execution_count": 166,
   "metadata": {},
   "outputs": [
    {
     "data": {
      "text/plain": [
       "Index(['Purchase Assignment Reference', 'Purchase Settlement Valuation(USD)',\n",
       "       'Collateral Document Type', 'INVENTORY ID', 'COLLATERAL DOCUMENT DATE',\n",
       "       'PURCHASE ASSIGNMENT', 'DRY WEIGHT', 'WET WEIGHT', 'CITY', 'TRANSPORT',\n",
       "       'MATERIAL ORIGIN COUNTRIES', 'OPERATIONS OWNER', 'PRODUCT',\n",
       "       'PURCHASE COUNTERPARTY', 'MOVEMENT ID', 'MODE', 'RECEIPT INCOTERMS',\n",
       "       'ID', 'LOAD DATE', 'LOAD', 'DESTINATION', 'DESTINATION DATE',\n",
       "       'Load Country', 'Delivery Country', 'Collateral Reference',\n",
       "       'Purchase Group Company Code', 'Purchase Trade ID',\n",
       "       'Purchase Quota Titan ID', 'Eligible Dry Weight', 'Eligible Wet Weight',\n",
       "       'BL Date', 'Authorized Paid Quantity', 'Financed Quantity',\n",
       "       'Inventory Current Value(USD)', 'Purchase Dry Weight UOM',\n",
       "       'Purchase Wet Weight UOM', 'Delivery In Progress',\n",
       "       'Receipt In Progress', 'Financed Ratio'],\n",
       "      dtype='object')"
      ]
     },
     "execution_count": 166,
     "metadata": {},
     "output_type": "execute_result"
    }
   ],
   "source": [
    "result_transport.columns"
   ]
  },
  {
   "cell_type": "code",
   "execution_count": 172,
   "metadata": {},
   "outputs": [],
   "source": [
    "result_transport = result_transport.drop(columns = ['PURCHASE ASSIGNMENT', 'ID', 'MOVEMENT ID', 'CITY'])"
   ]
  },
  {
   "cell_type": "code",
   "execution_count": 177,
   "metadata": {},
   "outputs": [],
   "source": [
    "result_transport.columns = ['Purchase Assignment Reference', 'Purchase Settlement Valuation(USD)',\n",
    "       'Collateral Document Type', 'Purchase Inventory ID', 'Collateral Document Date',\n",
    "       'Purchase Dry Weight', 'Purchase Wet Weight', 'Vessel Name',\n",
    "       'Purchase Material Origin Country', 'Purchase Traffic Operator', 'Purchase Commodity',\n",
    "       'Purchase Contractual Counterparty', 'Purchase Transport Mode', 'Purchase Incoterm', 'Load  Date',\n",
    "       'Load Location', 'Delivery Location', 'Expected Delivery Date', 'Load Country',\n",
    "       'Delivery Country', 'Collateral Reference',\n",
    "       'Purchase Group Company Code', 'Purchase Trade ID',\n",
    "       'Purchase Quota Titan ID', 'Eligible Dry Weight', 'Eligible Wet Weight','BL Date',\n",
    "       'Authorized Paid Quantity', 'Financed Quantity',\n",
    "       'Inventory Current Value(USD)', 'Purchase Dry Weight UOM',\n",
    "       'Purchase Wet Weight UOM', 'Delivery In Progress',\n",
    "       'Receipt In Progress', 'Financing Ratio']"
   ]
  },
  {
   "cell_type": "code",
   "execution_count": 178,
   "metadata": {},
   "outputs": [],
   "source": [
    "order = ['Purchase Group Company Code', 'Purchase Trade ID', 'Purchase Quota Titan ID', 'Purchase Assignment Reference', 'Purchase Inventory ID', 'Purchase Traffic Operator', 'Purchase Contractual Counterparty',\n",
    "        'Collateral Document Type', 'Collateral Reference', 'Collateral Document Date', 'Purchase Commodity', 'Purchase Material Origin Country', 'Purchase Incoterm', 'Purchase Transport Mode', 'Vessel Name', 'Load  Date',\n",
    "        'Load Location', 'Load Country','BL Date', 'Expected Delivery Date', 'Delivery Location', 'Delivery Country' ,'Purchase Dry Weight', 'Purchase Dry Weight UOM', 'Purchase Wet Weight', 'Purchase Wet Weight UOM', 'Purchase Settlement Valuation(USD)', 'Receipt In Progress', 'Delivery In Progress',\n",
    "        'Eligible Dry Weight', 'Eligible Wet Weight', 'Authorized Paid Quantity', 'Financed Quantity', 'Financing Ratio', 'Inventory Current Value(USD)' ]"
   ]
  },
  {
   "cell_type": "code",
   "execution_count": 179,
   "metadata": {},
   "outputs": [],
   "source": [
    "result_transport = result_transport[order]"
   ]
  }
 ],
 "metadata": {
  "kernelspec": {
   "display_name": "Python 3.6.13 ('Traf_TF')",
   "language": "python",
   "name": "python3"
  },
  "language_info": {
   "codemirror_mode": {
    "name": "ipython",
    "version": 3
   },
   "file_extension": ".py",
   "mimetype": "text/x-python",
   "name": "python",
   "nbconvert_exporter": "python",
   "pygments_lexer": "ipython3",
   "version": "3.6.13 |Anaconda, Inc.| (default, Mar 16 2021, 11:37:27) [MSC v.1916 64 bit (AMD64)]"
  },
  "orig_nbformat": 4,
  "vscode": {
   "interpreter": {
    "hash": "6dc1392907daab3ee7d027bb0f48c61799c4245fae6b03d0e6da3b85bcba139d"
   }
  }
 },
 "nbformat": 4,
 "nbformat_minor": 2
}
