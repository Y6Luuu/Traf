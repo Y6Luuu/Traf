{
 "cells": [
  {
   "cell_type": "code",
   "execution_count": 1,
   "metadata": {},
   "outputs": [],
   "source": [
    "import pandas as pd\n",
    "pd.reset_option('display.float_format')\n",
    "df_ffca= pd.read_excel(r\"C:\\Users\\Yuyan.Lu\\Desktop\\BB REPORT TEST FILE\\TIC\\FFCA.xlsx\")\n",
    "df_movement = pd.read_excel(r\"C:\\Users\\Yuyan.Lu\\Desktop\\BB REPORT TEST FILE\\TIC\\movement.xlsx\")\n",
    "df_inventory = pd.read_excel(r\"C:\\Users\\Yuyan.Lu\\Desktop\\BB REPORT TEST FILE\\TIC\\inventory.xlsx\")"
   ]
  },
  {
   "cell_type": "code",
   "execution_count": 2,
   "metadata": {},
   "outputs": [],
   "source": [
    "cols_ffca = [\"Purchase Assignment ID\" , \"Commodity\" , \"Inventory Status\" , \"Sales Assignment ID \" , \"Sales Invoice ID\" , \"Counterparty of Sales\" , \"Financing Bank facility\" , \"Purchase Settled Amount\" , \"Sales Settled Amount\"]\n",
    "df_ffca_f1 = pd.DataFrame(df_ffca, columns=cols_ffca)\n",
    "\n",
    "def IS(a):\n",
    "    return a == 'Delivered' or a == 'In-Transit'\n",
    "def CPS(a):\n",
    "    return a == \"Lykos (China) Co., Ltd.\" or  a == \"Lykos China Co.,Ltd - External\" or a == \"Trafigura Energy (Zhejiang) Co., Ltd.\" or a == \"Trafigura Trading (Yangshan) Co., Ltd.\" or a == \"Trafigura Trading (Hainan) Co., Ltd.\" or \\\n",
    "                                    a == \"Trafigura Investment (China) Co., Ltd\"\n",
    "\n",
    "def SSA(a):\n",
    "    return a == 0\n",
    "\n",
    "def PSA(a):\n",
    "    return a < -500000\n",
    "\n",
    "dfx = df_ffca_f1.loc[df_ffca_f1['Inventory Status'].apply(IS)]\n",
    "dfy = dfx.loc[dfx['Counterparty of Sales'].apply(CPS)]\n",
    "dfz = dfy.loc[dfy['Sales Settled Amount'].apply(SSA)]\n",
    "dfa = dfz.loc[dfz['Purchase Settled Amount'].apply(PSA)]\n",
    "\n",
    "cols_movement = ['ID', 'DESTINATION DATE']\n",
    "cols_inventory = ['SALE ASSIGNMENT', 'MOVEMENT ID']\n",
    "\n",
    "df_inventory_f1 = pd.DataFrame(df_inventory, columns=cols_inventory)\n",
    "df_movement_f1 = pd.DataFrame(df_movement, columns=cols_movement)\n",
    "\n",
    "\n",
    "df1 = pd.merge(df_movement_f1, df_inventory_f1, left_on='ID', right_on='MOVEMENT ID')\n",
    "df1 = df1.drop_duplicates(['ID'])\n",
    "df2 = pd.merge(df1, dfa, left_on = 'SALE ASSIGNMENT', right_on='Sales Assignment ID ', how='right')\n",
    "df2 = df2.drop(columns = ['ID', 'MOVEMENT ID', 'SALE ASSIGNMENT'], axis = 1)\n",
    "\n",
    "order = ['Purchase Assignment ID', 'Commodity',\n",
    "       'Inventory Status', 'Sales Assignment ID ', 'Sales Invoice ID',\n",
    "       'Counterparty of Sales', 'Financing Bank facility',\n",
    "       'Purchase Settled Amount', 'Sales Settled Amount', 'DESTINATION DATE' ]\n",
    "\n",
    "df2 = df2[order]\n",
    "df2.to_excel(r\"C:\\Users\\Yuyan.Lu\\Desktop\\BB REPORT TEST FILE\\TIC\\test.xlsx\")\n"
   ]
  }
 ],
 "metadata": {
  "kernelspec": {
   "display_name": "Traf_TF",
   "language": "python",
   "name": "python3"
  },
  "language_info": {
   "codemirror_mode": {
    "name": "ipython",
    "version": 3
   },
   "file_extension": ".py",
   "mimetype": "text/x-python",
   "name": "python",
   "nbconvert_exporter": "python",
   "pygments_lexer": "ipython3",
   "version": "3.6.13"
  },
  "orig_nbformat": 4,
  "vscode": {
   "interpreter": {
    "hash": "6dc1392907daab3ee7d027bb0f48c61799c4245fae6b03d0e6da3b85bcba139d"
   }
  }
 },
 "nbformat": 4,
 "nbformat_minor": 2
}
