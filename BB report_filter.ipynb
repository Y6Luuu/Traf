{
 "cells": [
  {
   "cell_type": "code",
   "execution_count": 44,
   "metadata": {},
   "outputs": [],
   "source": [
    "import pandas as pd\n",
    "df_ffca= pd.read_excel(r\"C:\\Users\\Yuyan.Lu\\Desktop\\BB REPORT TEST FILE\\0118\\FFCA.xlsx\")\n",
    "df_input= pd.read_excel(r\"C:\\Users\\Yuyan.Lu\\Desktop\\BB REPORT TEST FILE\\0118\\input.xlsx\")"
   ]
  },
  {
   "cell_type": "code",
   "execution_count": 45,
   "metadata": {},
   "outputs": [],
   "source": [
    "#filter for status\n",
    "\n",
    "cols_ffca_1 = ['Purchase Assignment ID', 'Inventory Status']\n",
    "cols_input = ['assignment']\n",
    "\n",
    "df_ffca_filter = pd.DataFrame(df_ffca, columns=cols_ffca_1)\n",
    "df_input = pd.DataFrame(df_input, columns=cols_input)\n",
    "\n",
    "assignment_filter = pd.merge(df_ffca_filter, df_input, left_on=[\"Purchase Assignment ID\"], right_on=[\"assignment\"], how= 'inner')\n",
    "assignment_filter.columns = ['Purchase Assignment Reference', 'Inventory Status', 'Assignment']\n",
    "\n",
    "def expected(a):\n",
    "    return a == \"Expected\"\n",
    "def instorage(a):\n",
    "    return a == \"In-Storage\"\n",
    "def intransit(a):\n",
    "    return a == \"In-Transit\"\n",
    "def delivered(a):\n",
    "    return a == \"Delivered\"\n",
    "\n",
    "df1 = assignment_filter.loc[assignment_filter['Inventory Status'].apply(expected)]\n",
    "df2 = assignment_filter.loc[assignment_filter['Inventory Status'].apply(instorage)]\n",
    "df3 = assignment_filter.loc[assignment_filter['Inventory Status'].apply(intransit)]\n",
    "df4 = assignment_filter.loc[assignment_filter['Inventory Status'].apply(delivered)]\n",
    "\n"
   ]
  },
  {
   "cell_type": "code",
   "execution_count": 46,
   "metadata": {},
   "outputs": [
    {
     "data": {
      "text/html": [
       "<div>\n",
       "<style scoped>\n",
       "    .dataframe tbody tr th:only-of-type {\n",
       "        vertical-align: middle;\n",
       "    }\n",
       "\n",
       "    .dataframe tbody tr th {\n",
       "        vertical-align: top;\n",
       "    }\n",
       "\n",
       "    .dataframe thead th {\n",
       "        text-align: right;\n",
       "    }\n",
       "</style>\n",
       "<table border=\"1\" class=\"dataframe\">\n",
       "  <thead>\n",
       "    <tr style=\"text-align: right;\">\n",
       "      <th></th>\n",
       "      <th>Purchase Assignment Reference</th>\n",
       "      <th>Inventory Status</th>\n",
       "      <th>Assignment</th>\n",
       "    </tr>\n",
       "  </thead>\n",
       "  <tbody>\n",
       "    <tr>\n",
       "      <th>1</th>\n",
       "      <td>646518.29.6</td>\n",
       "      <td>In-Transit</td>\n",
       "      <td>646518.29.6</td>\n",
       "    </tr>\n",
       "    <tr>\n",
       "      <th>2</th>\n",
       "      <td>666685.11.4</td>\n",
       "      <td>In-Transit</td>\n",
       "      <td>666685.11.4</td>\n",
       "    </tr>\n",
       "    <tr>\n",
       "      <th>3</th>\n",
       "      <td>669845.10.3</td>\n",
       "      <td>In-Transit</td>\n",
       "      <td>669845.10.3</td>\n",
       "    </tr>\n",
       "  </tbody>\n",
       "</table>\n",
       "</div>"
      ],
      "text/plain": [
       "  Purchase Assignment Reference Inventory Status   Assignment\n",
       "1                   646518.29.6       In-Transit  646518.29.6\n",
       "2                   666685.11.4       In-Transit  666685.11.4\n",
       "3                   669845.10.3       In-Transit  669845.10.3"
      ]
     },
     "execution_count": 46,
     "metadata": {},
     "output_type": "execute_result"
    }
   ],
   "source": [
    "df3"
   ]
  }
 ],
 "metadata": {
  "kernelspec": {
   "display_name": "Python 3.6.13 ('Traf_TF')",
   "language": "python",
   "name": "python3"
  },
  "language_info": {
   "codemirror_mode": {
    "name": "ipython",
    "version": 3
   },
   "file_extension": ".py",
   "mimetype": "text/x-python",
   "name": "python",
   "nbconvert_exporter": "python",
   "pygments_lexer": "ipython3",
   "version": "3.6.13 |Anaconda, Inc.| (default, Mar 16 2021, 11:37:27) [MSC v.1916 64 bit (AMD64)]"
  },
  "orig_nbformat": 4,
  "vscode": {
   "interpreter": {
    "hash": "6dc1392907daab3ee7d027bb0f48c61799c4245fae6b03d0e6da3b85bcba139d"
   }
  }
 },
 "nbformat": 4,
 "nbformat_minor": 2
}
