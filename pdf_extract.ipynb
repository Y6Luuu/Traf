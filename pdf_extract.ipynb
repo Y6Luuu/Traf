{
 "cells": [
  {
   "cell_type": "code",
   "execution_count": 1,
   "metadata": {},
   "outputs": [
    {
     "name": "stderr",
     "output_type": "stream",
     "text": [
      "c:\\Users\\Yuyan.Lu\\Anaconda3\\envs\\Traf_TF\\lib\\site-packages\\pdfminer\\pdfdocument.py:8: CryptographyDeprecationWarning: Python 3.6 is no longer supported by the Python core team. Therefore, support for it is deprecated in cryptography. The next release of cryptography (40.0) will be the last to support Python 3.6.\n",
      "  from cryptography.hazmat.backends import default_backend\n"
     ]
    }
   ],
   "source": [
    "import pdfplumber\n",
    "import pandas as pd"
   ]
  },
  {
   "cell_type": "code",
   "execution_count": 2,
   "metadata": {},
   "outputs": [
    {
     "ename": "FileNotFoundError",
     "evalue": "[Errno 2] No such file or directory: 'K:\\\\FINANCE\\\\Concs\\\\_ Yuyan\\\\Pdf_table_reader\\\\Oil_GC.pdf'",
     "output_type": "error",
     "traceback": [
      "\u001b[1;31m---------------------------------------------------------------------------\u001b[0m",
      "\u001b[1;31mFileNotFoundError\u001b[0m                         Traceback (most recent call last)",
      "\u001b[1;32m<ipython-input-2-0a1de2d25aa6>\u001b[0m in \u001b[0;36m<module>\u001b[1;34m\u001b[0m\n\u001b[1;32m----> 1\u001b[1;33m \u001b[0mpdf\u001b[0m \u001b[1;33m=\u001b[0m  \u001b[0mpdfplumber\u001b[0m\u001b[1;33m.\u001b[0m\u001b[0mopen\u001b[0m\u001b[1;33m(\u001b[0m\u001b[1;34mr'K:\\FINANCE\\Concs\\_ Yuyan\\Pdf_table_reader\\Oil_GC.pdf'\u001b[0m\u001b[1;33m)\u001b[0m\u001b[1;33m\u001b[0m\u001b[1;33m\u001b[0m\u001b[0m\n\u001b[0m\u001b[0;32m      2\u001b[0m \u001b[1;33m\u001b[0m\u001b[0m\n\u001b[0;32m      3\u001b[0m \u001b[1;31m# page = pdf.pages[0]\u001b[0m\u001b[1;33m\u001b[0m\u001b[1;33m\u001b[0m\u001b[1;33m\u001b[0m\u001b[0m\n\u001b[0;32m      4\u001b[0m \u001b[1;31m# tables = page.find_tables()\u001b[0m\u001b[1;33m\u001b[0m\u001b[1;33m\u001b[0m\u001b[1;33m\u001b[0m\u001b[0m\n\u001b[0;32m      5\u001b[0m \u001b[1;31m# len(tables)\u001b[0m\u001b[1;33m\u001b[0m\u001b[1;33m\u001b[0m\u001b[1;33m\u001b[0m\u001b[0m\n",
      "\u001b[1;32mc:\\Users\\Yuyan.Lu\\Anaconda3\\envs\\Traf_TF\\lib\\site-packages\\pdfplumber\\pdf.py\u001b[0m in \u001b[0;36mopen\u001b[1;34m(cls, path_or_fp, **kwargs)\u001b[0m\n\u001b[0;32m     52\u001b[0m     \u001b[1;32mdef\u001b[0m \u001b[0mopen\u001b[0m\u001b[1;33m(\u001b[0m\u001b[0mcls\u001b[0m\u001b[1;33m,\u001b[0m \u001b[0mpath_or_fp\u001b[0m\u001b[1;33m,\u001b[0m \u001b[1;33m**\u001b[0m\u001b[0mkwargs\u001b[0m\u001b[1;33m)\u001b[0m\u001b[1;33m:\u001b[0m\u001b[1;33m\u001b[0m\u001b[1;33m\u001b[0m\u001b[0m\n\u001b[0;32m     53\u001b[0m         \u001b[1;32mif\u001b[0m \u001b[0misinstance\u001b[0m\u001b[1;33m(\u001b[0m\u001b[0mpath_or_fp\u001b[0m\u001b[1;33m,\u001b[0m \u001b[1;33m(\u001b[0m\u001b[0mstr\u001b[0m\u001b[1;33m,\u001b[0m \u001b[0mpathlib\u001b[0m\u001b[1;33m.\u001b[0m\u001b[0mPath\u001b[0m\u001b[1;33m)\u001b[0m\u001b[1;33m)\u001b[0m\u001b[1;33m:\u001b[0m\u001b[1;33m\u001b[0m\u001b[1;33m\u001b[0m\u001b[0m\n\u001b[1;32m---> 54\u001b[1;33m             \u001b[0mfp\u001b[0m \u001b[1;33m=\u001b[0m \u001b[0mopen\u001b[0m\u001b[1;33m(\u001b[0m\u001b[0mpath_or_fp\u001b[0m\u001b[1;33m,\u001b[0m \u001b[1;34m\"rb\"\u001b[0m\u001b[1;33m)\u001b[0m\u001b[1;33m\u001b[0m\u001b[1;33m\u001b[0m\u001b[0m\n\u001b[0m\u001b[0;32m     55\u001b[0m             \u001b[0minst\u001b[0m \u001b[1;33m=\u001b[0m \u001b[0mcls\u001b[0m\u001b[1;33m(\u001b[0m\u001b[0mfp\u001b[0m\u001b[1;33m,\u001b[0m \u001b[1;33m**\u001b[0m\u001b[0mkwargs\u001b[0m\u001b[1;33m)\u001b[0m\u001b[1;33m\u001b[0m\u001b[1;33m\u001b[0m\u001b[0m\n\u001b[0;32m     56\u001b[0m             \u001b[0minst\u001b[0m\u001b[1;33m.\u001b[0m\u001b[0mclose_file\u001b[0m \u001b[1;33m=\u001b[0m \u001b[0mfp\u001b[0m\u001b[1;33m.\u001b[0m\u001b[0mclose\u001b[0m\u001b[1;33m\u001b[0m\u001b[1;33m\u001b[0m\u001b[0m\n",
      "\u001b[1;31mFileNotFoundError\u001b[0m: [Errno 2] No such file or directory: 'K:\\\\FINANCE\\\\Concs\\\\_ Yuyan\\\\Pdf_table_reader\\\\Oil_GC.pdf'"
     ]
    }
   ],
   "source": [
    "pdf =  pdfplumber.open(r'K:\\FINANCE\\Concs\\_ Yuyan\\Pdf_table_reader\\Oil_GC.pdf') \n",
    "\n",
    "# page = pdf.pages[0]\n",
    "# tables = page.find_tables()\n",
    "# len(tables)\n",
    "\n",
    "# df_alltables = pd.DataFrame(columns=['Deal', 'Group\\nCompany\\nCode', 'Trade', 'Counterparty Short\\nName',\n",
    "#        'Purch', 'Product', 'Trade Date', 'Trader\\nUser ID',\n",
    "#        'Security\\nInserted By', 'Trade\\nEstimated BL\\nDate', 'Sign\\noff',\n",
    "#        'Load Port', 'Discharge Port', 'Intention', 'Quantity'])\n",
    "\n",
    "\n",
    "# for i in range(len(tables)):\n",
    "#     t_content = tables[i].extract(x_tolerance = 5)\n",
    "#     df_table = pd.DataFrame(t_content[1:],columns=t_content[0])\n",
    "#     df_alltables = pd.concat([df_alltables, df_table])\n",
    "\n",
    "# df_alltables['Trade'].replace(regex=True,inplace=True,to_replace=r'\\n', value=r'')\n"
   ]
  },
  {
   "cell_type": "code",
   "execution_count": null,
   "metadata": {},
   "outputs": [],
   "source": [
    "df_alltables = pd.DataFrame(columns=['Deal', 'Group\\nCompany\\nCode', 'Trade', 'Counterparty Short\\nName',\n",
    "    'Purch', 'Product', 'Trade Date', 'Trader\\nUser ID',\n",
    "    'Security\\nInserted By', 'Trade\\nEstimated BL\\nDate', 'Sign\\noff',\n",
    "    'Load Port', 'Discharge Port', 'Intention', 'Quantity'])\n",
    "\n",
    "for page in pdf.pages:\n",
    "    tables = page.find_tables()\n",
    "    len(tables)\n",
    "\n",
    "    for i in range(len(tables)):\n",
    "        t_content = tables[i].extract(x_tolerance = 5)\n",
    "        df_table = pd.DataFrame(t_content[1:],columns=t_content[0])\n",
    "        df_alltables = pd.concat([df_alltables, df_table])\n",
    "\n",
    "df_alltables['Trade'].replace(regex=True,inplace=True,to_replace=r'\\n', value=r'')"
   ]
  },
  {
   "cell_type": "code",
   "execution_count": 4,
   "metadata": {},
   "outputs": [],
   "source": [
    "df_alltables.columns = ['Deal', 'Group Company Code', 'Trade', 'Counterparty Short\\nName',\n",
    "    'Purch', 'Product', 'Trade Date', 'Trader User ID',\n",
    "    'Security\\nInserted By', 'Trade Estimated BL Date', 'Sign off',\n",
    "    'Load Port', 'Discharge Port', 'Intention', 'Quantity']"
   ]
  },
  {
   "cell_type": "code",
   "execution_count": 49,
   "metadata": {},
   "outputs": [],
   "source": [
    "df_alltables.to_excel(r'K:\\FINANCE\\Concs\\_ Yuyan\\Pdf_table_reader\\test_extract.xlsx')"
   ]
  }
 ],
 "metadata": {
  "kernelspec": {
   "display_name": "Traf_TF",
   "language": "python",
   "name": "python3"
  },
  "language_info": {
   "codemirror_mode": {
    "name": "ipython",
    "version": 3
   },
   "file_extension": ".py",
   "mimetype": "text/x-python",
   "name": "python",
   "nbconvert_exporter": "python",
   "pygments_lexer": "ipython3",
   "version": "3.6.13"
  },
  "orig_nbformat": 4,
  "vscode": {
   "interpreter": {
    "hash": "6dc1392907daab3ee7d027bb0f48c61799c4245fae6b03d0e6da3b85bcba139d"
   }
  }
 },
 "nbformat": 4,
 "nbformat_minor": 2
}
